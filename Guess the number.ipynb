{
 "cells": [
  {
   "cell_type": "markdown",
   "metadata": {},
   "source": [
    "https://www.geeksforgeeks.org/number-guessing-game-in-python/"
   ]
  },
  {
   "cell_type": "code",
   "execution_count": 1,
   "metadata": {},
   "outputs": [],
   "source": [
    "import math\n",
    "import random"
   ]
  },
  {
   "cell_type": "code",
   "execution_count": 2,
   "metadata": {},
   "outputs": [
    {
     "name": "stdout",
     "output_type": "stream",
     "text": [
      "Enter the lower bound: 40\n",
      "Enter the upper bound: e\n",
      "Please enter a valid integer\n",
      "Enter the upper bound: r\n",
      "Please enter a valid integer\n",
      "Enter the upper bound: 80\n",
      "\n",
      "You've only  5  chances to guess the integer\n",
      "\n",
      "Guess a number:- rt\n",
      "Please enter a valid integer\n",
      "Guess a number:- 60\n",
      "You guessed too small!\n",
      "Guess a number:- 70\n",
      "You guessed too small!\n",
      "Guess a number:- 75\n",
      "You have guessed too laarge!\n",
      "Guess a number:- 73\n",
      "You have guessed too laarge!\n",
      "Guess a number:- 72\n",
      "Congrats! You have guessed right at  5  attempt\n"
     ]
    }
   ],
   "source": [
    "#Taking input\n",
    "while True:\n",
    "    try:\n",
    "        lower = int(input(\"Enter the lower bound: \"))\n",
    "        break\n",
    "    except ValueError:\n",
    "        print(\"Please enter a valid integer\")\n",
    "\n",
    "#Taking input\n",
    "#Taking input\n",
    "while True:\n",
    "    try:\n",
    "        upper = int(input(\"Enter the upper bound: \"))\n",
    "        break\n",
    "    except ValueError:\n",
    "        print(\"Please enter a valid integer\")\n",
    "\n",
    "#Generate a random number between lower and upper bound\n",
    "num = random.randint(lower,upper)\n",
    "\n",
    "#Minimum number of guessing = log2(Upper bound – lower bound + 1)\n",
    "print(\"\\nYou've only \",round(math.log(upper-lower+1,2)) , \" chances to guess the integer\\n\" )\n",
    "\n",
    "#Initialize the number of guess\n",
    "count = 0\n",
    "\n",
    "while count < round(math.log(upper-lower+1,2)):\n",
    "    count += 1\n",
    "    #taking guess\n",
    "    while True:\n",
    "        try:\n",
    "            guess = int(input(\"Guess a number:- \"))\n",
    "            break\n",
    "        except ValueError:\n",
    "            print(\"Please enter a valid integer\")\n",
    "\n",
    "    #condition testing\n",
    "    if guess == num:\n",
    "        print(\"Congrats! You have guessed right at \",count,\" attempt\")\n",
    "\n",
    "        #once guessed, loop will break\n",
    "        break\n",
    "    elif guess < num:\n",
    "        print(\"You guessed too small!\")\n",
    "    elif guess > num:\n",
    "        print(\"You have guessed too laarge!\")\n",
    "        \n",
    "# If Guessing is more than required guesses,\n",
    "# shows this output.\n",
    "if count > math.log(upper - lower + 1, 2):\n",
    "    print(\"\\nThe number is %d\" % num)\n",
    "    print(\"\\tBetter Luck Next time!\")\n",
    "\n"
   ]
  },
  {
   "cell_type": "code",
   "execution_count": null,
   "metadata": {},
   "outputs": [],
   "source": []
  }
 ],
 "metadata": {
  "kernelspec": {
   "display_name": "Python 3",
   "language": "python",
   "name": "python3"
  },
  "language_info": {
   "codemirror_mode": {
    "name": "ipython",
    "version": 3
   },
   "file_extension": ".py",
   "mimetype": "text/x-python",
   "name": "python",
   "nbconvert_exporter": "python",
   "pygments_lexer": "ipython3",
   "version": "3.8.5"
  }
 },
 "nbformat": 4,
 "nbformat_minor": 4
}
